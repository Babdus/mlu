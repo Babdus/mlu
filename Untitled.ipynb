{
 "cells": [
  {
   "cell_type": "code",
   "execution_count": 1,
   "id": "dc4049de-6fa5-4f35-9ff2-275857343f48",
   "metadata": {
    "tags": []
   },
   "outputs": [],
   "source": [
    "import re"
   ]
  },
  {
   "cell_type": "code",
   "execution_count": 199,
   "id": "d5174556-3d92-4822-84af-4045e420f73a",
   "metadata": {
    "tags": []
   },
   "outputs": [],
   "source": [
    "s = 'xxx vaime@i, uime@i k\\'i <he@k>[x _3] &=laughs. <hu@k>[x _5] &=laughs'"
   ]
  },
  {
   "cell_type": "code",
   "execution_count": 200,
   "id": "fc1d7fc4-c1b5-4864-8406-7667cddfd345",
   "metadata": {
    "tags": []
   },
   "outputs": [],
   "source": [
    "def subsplit(mask, pattern, n_delimiter_groups=1):\n",
    "    new_mask = []\n",
    "    for group, status in mask:\n",
    "        split = re.split(pattern, group)\n",
    "        submask = [(subgroup, status and i%(n_delimiter_groups+1)==0) for i, subgroup in enumerate(split)]\n",
    "        new_mask += submask\n",
    "    return new_mask"
   ]
  },
  {
   "cell_type": "code",
   "execution_count": 201,
   "id": "fd41420b-4601-42f0-b37f-972a971a671a",
   "metadata": {
    "tags": []
   },
   "outputs": [],
   "source": [
    "split = re.split(r'(<)([a-z\\'\\s@]*)(>\\[[a-zA-Z0-9\\'_\\s]*\\])', s)\n",
    "mask = [(group, i%2==0) for i, group in enumerate(split)]\n",
    "\n",
    "mask = subsplit(mask, pattern=r'(@[a-z\\'])([^a-z\\']|$)', n_delimiter_groups=2)\n",
    "mask = subsplit(mask, pattern=r'(^|\\s)(\\&.*[a-z\\']+)([^a-z\\']|$)', n_delimiter_groups=3)\n",
    "mask = subsplit(mask, pattern=r'(xxx|www)')\n",
    "mask = subsplit(mask, pattern=r'([^a-z\\'])')\n",
    "\n",
    "mask = [group for group in mask if len(group[0]) > 0]\n",
    "\n",
    "new_mask = []\n",
    "for group, status in mask:\n",
    "    if len(new_mask) > 0 and new_mask[-1][1] == status:\n",
    "        new_mask[-1] = (new_mask[-1][0] + group, status)\n",
    "    else:\n",
    "        new_mask.append((group, status))\n",
    "mask = new_mask"
   ]
  },
  {
   "cell_type": "code",
   "execution_count": 202,
   "id": "7575b0fb-0231-4c6e-9296-879366a1db12",
   "metadata": {
    "tags": []
   },
   "outputs": [
    {
     "data": {
      "text/plain": [
       "[('xxx ', False),\n",
       " ('vaime', True),\n",
       " ('@i, ', False),\n",
       " ('uime', True),\n",
       " ('@i ', False),\n",
       " (\"k'i\", True),\n",
       " (' <', False),\n",
       " ('he', True),\n",
       " ('@k>[x _3] &=laughs. <', False),\n",
       " ('hu', True),\n",
       " ('@k>[x _5] &=laughs', False)]"
      ]
     },
     "execution_count": 202,
     "metadata": {},
     "output_type": "execute_result"
    }
   ],
   "source": [
    "mask"
   ]
  },
  {
   "cell_type": "code",
   "execution_count": null,
   "id": "2d6d76ac-de39-4682-a809-2d5ebaaf77cc",
   "metadata": {},
   "outputs": [],
   "source": []
  }
 ],
 "metadata": {
  "kernelspec": {
   "display_name": "Python 3 (ipykernel)",
   "language": "python",
   "name": "python3"
  },
  "language_info": {
   "codemirror_mode": {
    "name": "ipython",
    "version": 3
   },
   "file_extension": ".py",
   "mimetype": "text/x-python",
   "name": "python",
   "nbconvert_exporter": "python",
   "pygments_lexer": "ipython3",
   "version": "3.10.10"
  }
 },
 "nbformat": 4,
 "nbformat_minor": 5
}
